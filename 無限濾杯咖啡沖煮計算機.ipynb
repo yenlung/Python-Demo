{
  "nbformat": 4,
  "nbformat_minor": 0,
  "metadata": {
    "colab": {
      "provenance": [],
      "authorship_tag": "ABX9TyOz96qr8zPRdaF3J8Swqrb8",
      "include_colab_link": true
    },
    "kernelspec": {
      "name": "python3",
      "display_name": "Python 3"
    },
    "language_info": {
      "name": "python"
    },
    "widgets": {
      "application/vnd.jupyter.widget-state+json": {
        "71012ee9812b458cbb7e20bd35419fb5": {
          "model_module": "@jupyter-widgets/controls",
          "model_name": "FloatSliderModel",
          "model_module_version": "1.5.0",
          "state": {
            "_dom_classes": [],
            "_model_module": "@jupyter-widgets/controls",
            "_model_module_version": "1.5.0",
            "_model_name": "FloatSliderModel",
            "_view_count": null,
            "_view_module": "@jupyter-widgets/controls",
            "_view_module_version": "1.5.0",
            "_view_name": "FloatSliderView",
            "continuous_update": false,
            "description": "咖啡粉 (克):",
            "description_tooltip": null,
            "disabled": false,
            "layout": "IPY_MODEL_80fd472f53cf44749d5b046d74951376",
            "max": 40,
            "min": 10,
            "orientation": "horizontal",
            "readout": true,
            "readout_format": ".2f",
            "step": 1,
            "style": "IPY_MODEL_89a0359f7ced425cb918089263c0d8c2",
            "value": 20
          }
        },
        "80fd472f53cf44749d5b046d74951376": {
          "model_module": "@jupyter-widgets/base",
          "model_name": "LayoutModel",
          "model_module_version": "1.2.0",
          "state": {
            "_model_module": "@jupyter-widgets/base",
            "_model_module_version": "1.2.0",
            "_model_name": "LayoutModel",
            "_view_count": null,
            "_view_module": "@jupyter-widgets/base",
            "_view_module_version": "1.2.0",
            "_view_name": "LayoutView",
            "align_content": null,
            "align_items": null,
            "align_self": null,
            "border": null,
            "bottom": null,
            "display": null,
            "flex": null,
            "flex_flow": null,
            "grid_area": null,
            "grid_auto_columns": null,
            "grid_auto_flow": null,
            "grid_auto_rows": null,
            "grid_column": null,
            "grid_gap": null,
            "grid_row": null,
            "grid_template_areas": null,
            "grid_template_columns": null,
            "grid_template_rows": null,
            "height": null,
            "justify_content": null,
            "justify_items": null,
            "left": null,
            "margin": null,
            "max_height": null,
            "max_width": null,
            "min_height": null,
            "min_width": null,
            "object_fit": null,
            "object_position": null,
            "order": null,
            "overflow": null,
            "overflow_x": null,
            "overflow_y": null,
            "padding": null,
            "right": null,
            "top": null,
            "visibility": null,
            "width": null
          }
        },
        "89a0359f7ced425cb918089263c0d8c2": {
          "model_module": "@jupyter-widgets/controls",
          "model_name": "SliderStyleModel",
          "model_module_version": "1.5.0",
          "state": {
            "_model_module": "@jupyter-widgets/controls",
            "_model_module_version": "1.5.0",
            "_model_name": "SliderStyleModel",
            "_view_count": null,
            "_view_module": "@jupyter-widgets/base",
            "_view_module_version": "1.2.0",
            "_view_name": "StyleView",
            "description_width": "",
            "handle_color": null
          }
        },
        "c2322760bdd04f40a27c5fd18366a1cf": {
          "model_module": "@jupyter-widgets/controls",
          "model_name": "IntSliderModel",
          "model_module_version": "1.5.0",
          "state": {
            "_dom_classes": [],
            "_model_module": "@jupyter-widgets/controls",
            "_model_module_version": "1.5.0",
            "_model_name": "IntSliderModel",
            "_view_count": null,
            "_view_module": "@jupyter-widgets/controls",
            "_view_module_version": "1.5.0",
            "_view_name": "IntSliderView",
            "continuous_update": false,
            "description": "目標比例:",
            "description_tooltip": null,
            "disabled": false,
            "layout": "IPY_MODEL_54b52a5f097546e6804e60f0e4ce1e08",
            "max": 17,
            "min": 12,
            "orientation": "horizontal",
            "readout": true,
            "readout_format": "d",
            "step": 1,
            "style": "IPY_MODEL_797c1429bc7e4e878590742d640ece7f",
            "value": 15
          }
        },
        "54b52a5f097546e6804e60f0e4ce1e08": {
          "model_module": "@jupyter-widgets/base",
          "model_name": "LayoutModel",
          "model_module_version": "1.2.0",
          "state": {
            "_model_module": "@jupyter-widgets/base",
            "_model_module_version": "1.2.0",
            "_model_name": "LayoutModel",
            "_view_count": null,
            "_view_module": "@jupyter-widgets/base",
            "_view_module_version": "1.2.0",
            "_view_name": "LayoutView",
            "align_content": null,
            "align_items": null,
            "align_self": null,
            "border": null,
            "bottom": null,
            "display": null,
            "flex": null,
            "flex_flow": null,
            "grid_area": null,
            "grid_auto_columns": null,
            "grid_auto_flow": null,
            "grid_auto_rows": null,
            "grid_column": null,
            "grid_gap": null,
            "grid_row": null,
            "grid_template_areas": null,
            "grid_template_columns": null,
            "grid_template_rows": null,
            "height": null,
            "justify_content": null,
            "justify_items": null,
            "left": null,
            "margin": null,
            "max_height": null,
            "max_width": null,
            "min_height": null,
            "min_width": null,
            "object_fit": null,
            "object_position": null,
            "order": null,
            "overflow": null,
            "overflow_x": null,
            "overflow_y": null,
            "padding": null,
            "right": null,
            "top": null,
            "visibility": null,
            "width": null
          }
        },
        "797c1429bc7e4e878590742d640ece7f": {
          "model_module": "@jupyter-widgets/controls",
          "model_name": "SliderStyleModel",
          "model_module_version": "1.5.0",
          "state": {
            "_model_module": "@jupyter-widgets/controls",
            "_model_module_version": "1.5.0",
            "_model_name": "SliderStyleModel",
            "_view_count": null,
            "_view_module": "@jupyter-widgets/base",
            "_view_module_version": "1.2.0",
            "_view_name": "StyleView",
            "description_width": "",
            "handle_color": null
          }
        },
        "cc2874a23b484ceab0bb53c7f156710a": {
          "model_module": "@jupyter-widgets/output",
          "model_name": "OutputModel",
          "model_module_version": "1.0.0",
          "state": {
            "_dom_classes": [],
            "_model_module": "@jupyter-widgets/output",
            "_model_module_version": "1.0.0",
            "_model_name": "OutputModel",
            "_view_count": null,
            "_view_module": "@jupyter-widgets/output",
            "_view_module_version": "1.0.0",
            "_view_name": "OutputView",
            "layout": "IPY_MODEL_8d862e824ba148e18697c9381b861a6b",
            "msg_id": "",
            "outputs": [
              {
                "output_type": "stream",
                "name": "stdout",
                "text": [
                  "對於 20.0 克咖啡粉:\n",
                  "1. 使用 240.0 毫升水沖煮 (12X)\n",
                  "2. 之後加入 60.0 毫升水來模擬 1:15 的比例\n"
                ]
              }
            ]
          }
        },
        "8d862e824ba148e18697c9381b861a6b": {
          "model_module": "@jupyter-widgets/base",
          "model_name": "LayoutModel",
          "model_module_version": "1.2.0",
          "state": {
            "_model_module": "@jupyter-widgets/base",
            "_model_module_version": "1.2.0",
            "_model_name": "LayoutModel",
            "_view_count": null,
            "_view_module": "@jupyter-widgets/base",
            "_view_module_version": "1.2.0",
            "_view_name": "LayoutView",
            "align_content": null,
            "align_items": null,
            "align_self": null,
            "border": null,
            "bottom": null,
            "display": null,
            "flex": null,
            "flex_flow": null,
            "grid_area": null,
            "grid_auto_columns": null,
            "grid_auto_flow": null,
            "grid_auto_rows": null,
            "grid_column": null,
            "grid_gap": null,
            "grid_row": null,
            "grid_template_areas": null,
            "grid_template_columns": null,
            "grid_template_rows": null,
            "height": null,
            "justify_content": null,
            "justify_items": null,
            "left": null,
            "margin": null,
            "max_height": null,
            "max_width": null,
            "min_height": null,
            "min_width": null,
            "object_fit": null,
            "object_position": null,
            "order": null,
            "overflow": null,
            "overflow_x": null,
            "overflow_y": null,
            "padding": null,
            "right": null,
            "top": null,
            "visibility": null,
            "width": null
          }
        },
        "ab5bfa5d826f4e5eb1574303a0b5ba66": {
          "model_module": "@jupyter-widgets/controls",
          "model_name": "IntSliderModel",
          "model_module_version": "1.5.0",
          "state": {
            "_dom_classes": [],
            "_model_module": "@jupyter-widgets/controls",
            "_model_module_version": "1.5.0",
            "_model_name": "IntSliderModel",
            "_view_count": null,
            "_view_module": "@jupyter-widgets/controls",
            "_view_module_version": "1.5.0",
            "_view_name": "IntSliderView",
            "continuous_update": false,
            "description": "咖啡粉 (克):",
            "description_tooltip": null,
            "disabled": false,
            "layout": "IPY_MODEL_1c9c1f1a5ddf4dc2b6fa87bd8d2a9eb5",
            "max": 40,
            "min": 10,
            "orientation": "horizontal",
            "readout": true,
            "readout_format": "d",
            "step": 1,
            "style": "IPY_MODEL_b4aee61c7965453e8c7cfcdf9fe26411",
            "value": 20
          }
        },
        "1c9c1f1a5ddf4dc2b6fa87bd8d2a9eb5": {
          "model_module": "@jupyter-widgets/base",
          "model_name": "LayoutModel",
          "model_module_version": "1.2.0",
          "state": {
            "_model_module": "@jupyter-widgets/base",
            "_model_module_version": "1.2.0",
            "_model_name": "LayoutModel",
            "_view_count": null,
            "_view_module": "@jupyter-widgets/base",
            "_view_module_version": "1.2.0",
            "_view_name": "LayoutView",
            "align_content": null,
            "align_items": null,
            "align_self": null,
            "border": null,
            "bottom": null,
            "display": null,
            "flex": null,
            "flex_flow": null,
            "grid_area": null,
            "grid_auto_columns": null,
            "grid_auto_flow": null,
            "grid_auto_rows": null,
            "grid_column": null,
            "grid_gap": null,
            "grid_row": null,
            "grid_template_areas": null,
            "grid_template_columns": null,
            "grid_template_rows": null,
            "height": null,
            "justify_content": null,
            "justify_items": null,
            "left": null,
            "margin": null,
            "max_height": null,
            "max_width": null,
            "min_height": null,
            "min_width": null,
            "object_fit": null,
            "object_position": null,
            "order": null,
            "overflow": null,
            "overflow_x": null,
            "overflow_y": null,
            "padding": null,
            "right": null,
            "top": null,
            "visibility": null,
            "width": null
          }
        },
        "b4aee61c7965453e8c7cfcdf9fe26411": {
          "model_module": "@jupyter-widgets/controls",
          "model_name": "SliderStyleModel",
          "model_module_version": "1.5.0",
          "state": {
            "_model_module": "@jupyter-widgets/controls",
            "_model_module_version": "1.5.0",
            "_model_name": "SliderStyleModel",
            "_view_count": null,
            "_view_module": "@jupyter-widgets/base",
            "_view_module_version": "1.2.0",
            "_view_name": "StyleView",
            "description_width": "",
            "handle_color": null
          }
        },
        "c97cbce0e908477da37ba6d0d5ef7cf1": {
          "model_module": "@jupyter-widgets/output",
          "model_name": "OutputModel",
          "model_module_version": "1.0.0",
          "state": {
            "_dom_classes": [],
            "_model_module": "@jupyter-widgets/output",
            "_model_module_version": "1.0.0",
            "_model_name": "OutputModel",
            "_view_count": null,
            "_view_module": "@jupyter-widgets/output",
            "_view_module_version": "1.0.0",
            "_view_name": "OutputView",
            "layout": "IPY_MODEL_de074e803a464b0faac8984a3b7d4c74",
            "msg_id": "",
            "outputs": [
              {
                "output_type": "stream",
                "name": "stdout",
                "text": [
                  "對於 20 克咖啡粉:\n",
                  "1. 在下壺放入 80 克冰塊 (4X)\n",
                  "2. 使用 150.0 克熱水沖煮 (7.5X)\n"
                ]
              }
            ]
          }
        },
        "de074e803a464b0faac8984a3b7d4c74": {
          "model_module": "@jupyter-widgets/base",
          "model_name": "LayoutModel",
          "model_module_version": "1.2.0",
          "state": {
            "_model_module": "@jupyter-widgets/base",
            "_model_module_version": "1.2.0",
            "_model_name": "LayoutModel",
            "_view_count": null,
            "_view_module": "@jupyter-widgets/base",
            "_view_module_version": "1.2.0",
            "_view_name": "LayoutView",
            "align_content": null,
            "align_items": null,
            "align_self": null,
            "border": null,
            "bottom": null,
            "display": null,
            "flex": null,
            "flex_flow": null,
            "grid_area": null,
            "grid_auto_columns": null,
            "grid_auto_flow": null,
            "grid_auto_rows": null,
            "grid_column": null,
            "grid_gap": null,
            "grid_row": null,
            "grid_template_areas": null,
            "grid_template_columns": null,
            "grid_template_rows": null,
            "height": null,
            "justify_content": null,
            "justify_items": null,
            "left": null,
            "margin": null,
            "max_height": null,
            "max_width": null,
            "min_height": null,
            "min_width": null,
            "object_fit": null,
            "object_position": null,
            "order": null,
            "overflow": null,
            "overflow_x": null,
            "overflow_y": null,
            "padding": null,
            "right": null,
            "top": null,
            "visibility": null,
            "width": null
          }
        }
      }
    }
  },
  "cells": [
    {
      "cell_type": "markdown",
      "metadata": {
        "id": "view-in-github",
        "colab_type": "text"
      },
      "source": [
        "<a href=\"https://colab.research.google.com/github/yenlung/Python-Demo/blob/main/%E7%84%A1%E9%99%90%E6%BF%BE%E6%9D%AF%E5%92%96%E5%95%A1%E6%B2%96%E7%85%AE%E8%A8%88%E7%AE%97%E6%A9%9F.ipynb\" target=\"_parent\"><img src=\"https://colab.research.google.com/assets/colab-badge.svg\" alt=\"Open In Colab\"/></a>"
      ]
    },
    {
      "cell_type": "markdown",
      "source": [
        "## 無限濾杯咖啡沖煮計算機\n",
        "\n",
        "Hario 的「無限濾杯」是用法非常的白痴, 我是說, 簡單。就是粉放下去之後, 一次沖到底就好。\n",
        "\n",
        "標準官方的建議是<font color='red'>粉水比 1:12</font>, 也就是 1g 咖啡豆用 12g 的水。這是咖啡粉用量偏多的方式, <font color='red'>萃取率</font>降低, 讓容錯率提升。另一方面設計上流速變慢, 也就是用類似浸泡的方式, 讓萃取速率降低, 容錯率再次提升。這裡我們想用你指定的粉的重量, 來計算要用多少水沖煮這杯咖啡。"
      ],
      "metadata": {
        "id": "-iJtsR2EsRIf"
      }
    },
    {
      "cell_type": "markdown",
      "source": [
        "### 1. 讀入基本及需要的套件"
      ],
      "metadata": {
        "id": "P3qEBkMhvpZD"
      }
    },
    {
      "cell_type": "code",
      "execution_count": 1,
      "metadata": {
        "id": "Jvzppr0ZsHJh"
      },
      "outputs": [],
      "source": [
        "%matplotlib inline\n",
        "\n",
        "import numpy as np\n",
        "import pandas as pd\n",
        "import matplotlib.pyplot as plt"
      ]
    },
    {
      "cell_type": "code",
      "source": [
        "import ipywidgets as widgets\n",
        "from IPython.display import display"
      ],
      "metadata": {
        "id": "LvgT4bNcvoNL"
      },
      "execution_count": 2,
      "outputs": []
    },
    {
      "cell_type": "markdown",
      "source": [
        "### 2. 熱咖啡篇\n",
        "\n",
        "[粕谷哲示範熱咖啡沖法](https://youtu.be/52ZngRXMklk?si=3kRj93I6yHiTMmbF)"
      ],
      "metadata": {
        "id": "A5kXkd2YwgQ9"
      }
    },
    {
      "cell_type": "code",
      "source": [
        "def calculate_water(coffee_grams, brew_ratio, target_ratio):\n",
        "    brew_water = coffee_grams * brew_ratio\n",
        "    target_water = coffee_grams * target_ratio\n",
        "    bypass_water = target_water - brew_water\n",
        "    return f\"對於 {coffee_grams:.1f} 克咖啡粉:\\n\" \\\n",
        "           f\"1. 使用 {brew_water:.1f} 毫升水沖煮 (12X)\\n\" \\\n",
        "           f\"2. 之後加入 {bypass_water:.1f} 毫升水來模擬 1:{target_ratio} 的比例\""
      ],
      "metadata": {
        "id": "CfTYq-CDweZ9"
      },
      "execution_count": 38,
      "outputs": []
    },
    {
      "cell_type": "code",
      "source": [
        "coffee_slider = widgets.FloatSlider(\n",
        "    value=20,\n",
        "    min=10,\n",
        "    max=40,\n",
        "    step=1,\n",
        "    description='咖啡粉 (克):',\n",
        "    continuous_update=False,\n",
        "    #readout_format='.1f',\n",
        ")"
      ],
      "metadata": {
        "id": "wrp3TsY8wlE9"
      },
      "execution_count": 39,
      "outputs": []
    },
    {
      "cell_type": "code",
      "source": [
        "target_ratio_slider = widgets.IntSlider(\n",
        "    value=15,\n",
        "    min=12,\n",
        "    max=17,\n",
        "    step=1,\n",
        "    description='目標比例:',\n",
        "    continuous_update=False,\n",
        ")"
      ],
      "metadata": {
        "id": "x0DaGaK2wodT"
      },
      "execution_count": 40,
      "outputs": []
    },
    {
      "cell_type": "code",
      "source": [
        "output = widgets.Output()"
      ],
      "metadata": {
        "id": "97tQ30FLwrHs"
      },
      "execution_count": 41,
      "outputs": []
    },
    {
      "cell_type": "code",
      "source": [
        "def on_value_change(change):\n",
        "    with output:\n",
        "        output.clear_output()\n",
        "        print(calculate_water(coffee_slider.value, 12, target_ratio_slider.value))"
      ],
      "metadata": {
        "id": "SD32DB9ewyDG"
      },
      "execution_count": 42,
      "outputs": []
    },
    {
      "cell_type": "code",
      "source": [
        "coffee_slider.observe(on_value_change, names='value')\n",
        "target_ratio_slider.observe(on_value_change, names='value')\n",
        "\n",
        "display(coffee_slider, target_ratio_slider, output)\n",
        "\n",
        "# 初始顯示\n",
        "with output:\n",
        "    print(calculate_water(coffee_slider.value, 12, target_ratio_slider.value))"
      ],
      "metadata": {
        "colab": {
          "base_uri": "https://localhost:8080/",
          "height": 132,
          "referenced_widgets": [
            "71012ee9812b458cbb7e20bd35419fb5",
            "80fd472f53cf44749d5b046d74951376",
            "89a0359f7ced425cb918089263c0d8c2",
            "c2322760bdd04f40a27c5fd18366a1cf",
            "54b52a5f097546e6804e60f0e4ce1e08",
            "797c1429bc7e4e878590742d640ece7f",
            "cc2874a23b484ceab0bb53c7f156710a",
            "8d862e824ba148e18697c9381b861a6b"
          ]
        },
        "id": "zThQsWT9zmlX",
        "outputId": "9634547f-ff79-47ce-d9f4-f7ad61b50967"
      },
      "execution_count": 43,
      "outputs": [
        {
          "output_type": "display_data",
          "data": {
            "text/plain": [
              "FloatSlider(value=20.0, continuous_update=False, description='咖啡粉 (克):', max=40.0, min=10.0, step=1.0)"
            ],
            "application/vnd.jupyter.widget-view+json": {
              "version_major": 2,
              "version_minor": 0,
              "model_id": "71012ee9812b458cbb7e20bd35419fb5"
            }
          },
          "metadata": {}
        },
        {
          "output_type": "display_data",
          "data": {
            "text/plain": [
              "IntSlider(value=15, continuous_update=False, description='目標比例:', max=17, min=12)"
            ],
            "application/vnd.jupyter.widget-view+json": {
              "version_major": 2,
              "version_minor": 0,
              "model_id": "c2322760bdd04f40a27c5fd18366a1cf"
            }
          },
          "metadata": {}
        },
        {
          "output_type": "display_data",
          "data": {
            "text/plain": [
              "Output()"
            ],
            "application/vnd.jupyter.widget-view+json": {
              "version_major": 2,
              "version_minor": 0,
              "model_id": "cc2874a23b484ceab0bb53c7f156710a"
            }
          },
          "metadata": {}
        }
      ]
    },
    {
      "cell_type": "markdown",
      "source": [
        "### 3. 冰咖啡篇\n",
        "\n",
        "[粕谷哲示範冰咖啡沖煮](https://youtu.be/sv-xmzKIv8E?si=YKvx3PUqT_qAiXLX)\n"
      ],
      "metadata": {
        "id": "fTymezC92T3O"
      }
    },
    {
      "cell_type": "code",
      "source": [
        "def calculate_iced_coffee(coffee_grams):\n",
        "    ice_grams = coffee_grams * 4\n",
        "    water_grams = coffee_grams * 7.5\n",
        "    return f\"對於 {coffee_grams} 克咖啡粉:\\n\" \\\n",
        "           f\"1. 在下壺放入 {ice_grams} 克冰塊 (4X)\\n\" \\\n",
        "           f\"2. 使用 {water_grams} 克熱水沖煮 (7.5X)\""
      ],
      "metadata": {
        "id": "hV2Llvt32TZG"
      },
      "execution_count": 46,
      "outputs": []
    },
    {
      "cell_type": "code",
      "source": [
        "coffee_slider = widgets.IntSlider(\n",
        "    value=20,\n",
        "    min=10,\n",
        "    max=40,\n",
        "    step=1,\n",
        "    description='咖啡粉 (克):',\n",
        "    continuous_update=False,\n",
        ")"
      ],
      "metadata": {
        "id": "7s8OQf9ozqP3"
      },
      "execution_count": 50,
      "outputs": []
    },
    {
      "cell_type": "code",
      "source": [
        "output = widgets.Output()"
      ],
      "metadata": {
        "id": "mZYZBRVp3fYJ"
      },
      "execution_count": 51,
      "outputs": []
    },
    {
      "cell_type": "code",
      "source": [
        "def on_value_change(change):\n",
        "    with output:\n",
        "        output.clear_output()\n",
        "        print(calculate_iced_coffee(change.new))"
      ],
      "metadata": {
        "id": "KU2p6rjR3pMC"
      },
      "execution_count": 52,
      "outputs": []
    },
    {
      "cell_type": "code",
      "source": [
        "coffee_slider.observe(on_value_change, names='value')\n",
        "\n",
        "display(coffee_slider, output)\n",
        "\n",
        "# 初始顯示\n",
        "with output:\n",
        "    print(calculate_iced_coffee(coffee_slider.value))"
      ],
      "metadata": {
        "colab": {
          "base_uri": "https://localhost:8080/",
          "height": 102,
          "referenced_widgets": [
            "ab5bfa5d826f4e5eb1574303a0b5ba66",
            "1c9c1f1a5ddf4dc2b6fa87bd8d2a9eb5",
            "b4aee61c7965453e8c7cfcdf9fe26411",
            "c97cbce0e908477da37ba6d0d5ef7cf1",
            "de074e803a464b0faac8984a3b7d4c74"
          ]
        },
        "id": "7TXtAdGu3sn0",
        "outputId": "5f782ccf-59c2-4785-b5b2-46fffd2544a8"
      },
      "execution_count": 53,
      "outputs": [
        {
          "output_type": "display_data",
          "data": {
            "text/plain": [
              "IntSlider(value=20, continuous_update=False, description='咖啡粉 (克):', max=40, min=10)"
            ],
            "application/vnd.jupyter.widget-view+json": {
              "version_major": 2,
              "version_minor": 0,
              "model_id": "ab5bfa5d826f4e5eb1574303a0b5ba66"
            }
          },
          "metadata": {}
        },
        {
          "output_type": "display_data",
          "data": {
            "text/plain": [
              "Output()"
            ],
            "application/vnd.jupyter.widget-view+json": {
              "version_major": 2,
              "version_minor": 0,
              "model_id": "c97cbce0e908477da37ba6d0d5ef7cf1"
            }
          },
          "metadata": {}
        }
      ]
    }
  ]
}